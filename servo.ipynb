{
 "cells": [
  {
   "cell_type": "code",
   "execution_count": 1,
   "id": "acddfd29-786f-4590-8aba-def124f16d2b",
   "metadata": {},
   "outputs": [],
   "source": [
    "import os\n",
    "os.environ['GPIOZERO_PIN_FACTORY'] = 'mock'\n",
    "os.environ['GPIOZERO_MOCK_PIN_CLASS'] = \"mockpwmpin\""
   ]
  },
  {
   "cell_type": "code",
   "execution_count": 2,
   "id": "cab82ff5-dac1-4dd8-9aa6-0c3b4288c734",
   "metadata": {},
   "outputs": [],
   "source": [
    "from gpiozero.pins.mock import MockFactory, MockPin, MockPWMPin\n",
    "from gpiozero import Device, Servo, LED\n",
    "\n",
    "Device.pin_factory = MockFactory(pin_class=MockPWMPin)\n"
   ]
  },
  {
   "cell_type": "code",
   "execution_count": 3,
   "id": "1e31010d-c407-43e9-bff1-ee831fc5567a",
   "metadata": {},
   "outputs": [
    {
     "name": "stderr",
     "output_type": "stream",
     "text": [
      "/Users/william.kong/.pyenv/versions/3.11.11/envs/robo/lib/python3.11/site-packages/gpiozero/output_devices.py:1509: PWMSoftwareFallback: To reduce servo jitter, use the pigpio pin factory.See https://gpiozero.readthedocs.io/en/stable/api_output.html#servo for more info\n",
      "  warnings.warn(PWMSoftwareFallback(\n"
     ]
    }
   ],
   "source": [
    "# Adjust min/max pulse_width values for your specific servo\n",
    "servos = {\n",
    "    \"bass\": Servo(18, min_pulse_width=0.0005, max_pulse_width=0.0025),\n",
    "    \"mid\": Servo(23, min_pulse_width=0.0005, max_pulse_width=0.0025),\n",
    "    \"treble\": Servo(24, min_pulse_width=0.0005, max_pulse_width=0.0025),\n",
    "}"
   ]
  },
  {
   "cell_type": "code",
   "execution_count": null,
   "id": "552ee292-533f-48c7-9b9f-2f660a1bc624",
   "metadata": {},
   "outputs": [],
   "source": []
  }
 ],
 "metadata": {
  "kernelspec": {
   "display_name": "Python 3 (ipykernel)",
   "language": "python",
   "name": "python3"
  },
  "language_info": {
   "codemirror_mode": {
    "name": "ipython",
    "version": 3
   },
   "file_extension": ".py",
   "mimetype": "text/x-python",
   "name": "python",
   "nbconvert_exporter": "python",
   "pygments_lexer": "ipython3",
   "version": "3.11.11"
  }
 },
 "nbformat": 4,
 "nbformat_minor": 5
}
